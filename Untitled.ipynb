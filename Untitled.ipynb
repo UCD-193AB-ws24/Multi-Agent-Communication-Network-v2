{
 "cells": [
  {
   "cell_type": "code",
   "execution_count": 25,
   "id": "4ac884c6-9340-46ef-ba18-6f9673b84bde",
   "metadata": {},
   "outputs": [
    {
     "name": "stdout",
     "output_type": "stream",
     "text": [
      "255\n"
     ]
    }
   ],
   "source": [
    "value = int.from_bytes(b'\\xff', byteorder='big')\n",
    "print(value)  # Output: 255"
   ]
  },
  {
   "cell_type": "code",
   "execution_count": 6,
   "id": "635b67de-f7bc-42c6-97de-1be55dd5dbb9",
   "metadata": {},
   "outputs": [
    {
     "data": {
      "text/plain": [
       "256"
      ]
     },
     "execution_count": 6,
     "metadata": {},
     "output_type": "execute_result"
    }
   ],
   "source": [
    "16*16"
   ]
  },
  {
   "cell_type": "code",
   "execution_count": 22,
   "id": "4d05b05d-052c-4cf5-a26a-df4e281bb2fc",
   "metadata": {},
   "outputs": [
    {
     "name": "stdout",
     "output_type": "stream",
     "text": [
      "S\n"
     ]
    }
   ],
   "source": [
    "print(b'S'.decode('utf-8'))"
   ]
  },
  {
   "cell_type": "code",
   "execution_count": 24,
   "id": "c6ecef1d-d024-4350-bd8a-860cd0cfbdc5",
   "metadata": {},
   "outputs": [
    {
     "name": "stdout",
     "output_type": "stream",
     "text": [
      "b'SGPS'\n"
     ]
    }
   ],
   "source": [
    "test = b'S' + \"GPS\".encode()\n",
    "\n",
    "print(test)"
   ]
  },
  {
   "cell_type": "code",
   "execution_count": 27,
   "id": "901b5802-40bc-42c9-99fc-5f506be39abf",
   "metadata": {},
   "outputs": [
    {
     "ename": "OverflowError",
     "evalue": "int too big to convert",
     "output_type": "error",
     "traceback": [
      "\u001b[0;31m---------------------------------------------------------------------------\u001b[0m",
      "\u001b[0;31mOverflowError\u001b[0m                             Traceback (most recent call last)",
      "Cell \u001b[0;32mIn[27], line 4\u001b[0m\n\u001b[1;32m      1\u001b[0m number \u001b[38;5;241m=\u001b[39m \u001b[38;5;241m256\u001b[39m  \u001b[38;5;66;03m# Example number to encode into one byte\u001b[39;00m\n\u001b[1;32m      3\u001b[0m \u001b[38;5;66;03m# Encode the number into a single byte\u001b[39;00m\n\u001b[0;32m----> 4\u001b[0m encoded_byte \u001b[38;5;241m=\u001b[39m \u001b[43mnumber\u001b[49m\u001b[38;5;241;43m.\u001b[39;49m\u001b[43mto_bytes\u001b[49m\u001b[43m(\u001b[49m\u001b[38;5;241;43m1\u001b[39;49m\u001b[43m,\u001b[49m\u001b[43m \u001b[49m\u001b[43mbyteorder\u001b[49m\u001b[38;5;241;43m=\u001b[39;49m\u001b[38;5;124;43m'\u001b[39;49m\u001b[38;5;124;43mbig\u001b[39;49m\u001b[38;5;124;43m'\u001b[39;49m\u001b[43m)\u001b[49m\n\u001b[1;32m      6\u001b[0m \u001b[38;5;28mprint\u001b[39m(encoded_byte)  \u001b[38;5;66;03m# Output: b'\\xff'\u001b[39;00m\n",
      "\u001b[0;31mOverflowError\u001b[0m: int too big to convert"
     ]
    }
   ],
   "source": [
    "number = 256  # Example number to encode into one byte\n",
    "\n",
    "# Encode the number into a single byte\n",
    "encoded_byte = number.to_bytes(1, byteorder='big')\n",
    "\n",
    "print(encoded_byte)  # Output: b'\\xff'"
   ]
  },
  {
   "cell_type": "code",
   "execution_count": 28,
   "id": "f2324672-8671-4589-bf96-0932a30fe17c",
   "metadata": {},
   "outputs": [
    {
     "data": {
      "text/plain": [
       "14"
      ]
     },
     "execution_count": 28,
     "metadata": {},
     "output_type": "execute_result"
    }
   ],
   "source": [
    "len(b'Node Not Found')"
   ]
  },
  {
   "cell_type": "code",
   "execution_count": null,
   "id": "ab374f1b-2044-4926-8049-307799a3afab",
   "metadata": {},
   "outputs": [],
   "source": []
  }
 ],
 "metadata": {
  "kernelspec": {
   "display_name": "Python 3 (ipykernel)",
   "language": "python",
   "name": "python3"
  },
  "language_info": {
   "codemirror_mode": {
    "name": "ipython",
    "version": 3
   },
   "file_extension": ".py",
   "mimetype": "text/x-python",
   "name": "python",
   "nbconvert_exporter": "python",
   "pygments_lexer": "ipython3",
   "version": "3.10.13"
  }
 },
 "nbformat": 4,
 "nbformat_minor": 5
}
