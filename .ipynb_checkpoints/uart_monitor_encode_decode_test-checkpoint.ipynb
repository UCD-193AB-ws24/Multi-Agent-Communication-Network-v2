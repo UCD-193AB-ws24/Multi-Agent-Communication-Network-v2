{
 "cells": [
  {
   "cell_type": "code",
   "execution_count": 5,
   "id": "66aff6c1-4933-441a-a389-a31650f5e1ec",
   "metadata": {
    "scrolled": true,
    "tags": []
   },
   "outputs": [
    {
     "name": "stdout",
     "output_type": "stream",
     "text": [
      "[Encoded] b'SEND-\\x00\\x00![D]\\x03GPS\\x06(\\xfa\\x00(\\xfa\\x00(\\xfa\\x00LDC\\x02\\x1a\\xeaIDX\\x01\\x02ESP\\x04\\xfa\\x00\\xfa\\x01\\xfa\\x06\\xfa\\x07'\n",
      "[Decoded] b'SEND-\\x00\\x00![D]\\x03GPS\\x06(\\xfa(\\xfa(\\xfaLDC\\x02\\x1a\\xeaIDX\\x01\\x02ESP\\x04\\xfa\\xfb\\xfc\\xfd'\n",
      "[Encoded] b'SEND-\\x00\\x00![D]\\x03GPS\\x06<\\xfa\\x00<\\xfa\\x00<\\xfa\\x00LDC\\x02$\\xeaIDX\\x01\\x03ESP\\x04\\xfa\\x00\\xfa\\x01\\xfa\\x06\\xfa\\x07'\n",
      "[Decoded] b'SEND-\\x00\\x00![D]\\x03GPS\\x06<\\xfa<\\xfa<\\xfaLDC\\x02$\\xeaIDX\\x01\\x03ESP\\x04\\xfa\\xfb\\xfc\\xfd'\n"
     ]
    }
   ],
   "source": [
    "import serial\n",
    "import threading\n",
    "\n",
    "port = 'COM15'\n",
    "baud_rate = 115200\n",
    "\n",
    "escape_byte_bs = b'\\xfa' # byte string of 0xfa\n",
    "escape_byte = escape_byte_bs[0] # int type == 0xfa == 250\n",
    "\n",
    "# for uart protocal,  -------------------- TB Tested --------------------------\n",
    "def uart_decoder(data):\n",
    "    # decode escape bytes\n",
    "    result = b''\n",
    "\n",
    "    i = 0\n",
    "    while i < len(data):\n",
    "        byte = data[i] # python gets the int type of single byte\n",
    "\n",
    "        if byte != escape_byte:\n",
    "            result += byte.to_bytes(1, 'big') # get the bytestring of this byte\n",
    "            i += 1 # processed 1 byte for normal byte\n",
    "            continue\n",
    "\n",
    "        # byte == escape_byte, decode escaped byte\n",
    "        byte_encoded = data[i + 1]\n",
    "        byte_decoded = escape_byte ^ byte_encoded\n",
    "        result += byte_decoded.to_bytes(1, 'big') # get the bytestring of this byte\n",
    "        i += 2 # processed 2 byte for encoded byte\n",
    "    # while loop done\n",
    "\n",
    "    return result\n",
    "\n",
    "# for uart protocal, -------------------- TB Tested --------------------------\n",
    "def uart_encoder(data):\n",
    "    # encode escape bytes\n",
    "    result = b''\n",
    "    for byte in data:\n",
    "        print(\"[R]\", result)\n",
    "        if byte < escape_byte:\n",
    "            result += byte.to_bytes(1, 'big') # get the bytestring of this byte\n",
    "            continue\n",
    "\n",
    "        # byte >= escape_byte, encode escaped byte\n",
    "        byte_encoded = escape_byte ^ byte\n",
    "        result += escape_byte.to_bytes(1, 'big') # get the bytestring of this byte\n",
    "        result += byte_decoded.to_bytes(1, 'big') # get the bytestring of this byte\n",
    "    # while loop done\n",
    "\n",
    "    return result\n",
    "def uart_read_message(serial_connection):\n",
    "    # read the entire message base on our uart escape byte protocal\n",
    "    # TB Finish, rn is the old 3 special end_of_message bytes\n",
    "    data = b''\n",
    "    while True:\n",
    "        if serial_connection.in_waiting > 0:  # Check if there is data available to read\n",
    "            byte = serial_connection.read() # Read and decode the data\n",
    "            # print(byte, end=\"-\")\n",
    "            if byte == b'\\xff':\n",
    "                # start of message\n",
    "                data = b''\n",
    "                continue\n",
    "            if byte == b'\\xfe':\n",
    "                # found end of message sequence\n",
    "                break\n",
    "                \n",
    "            data += byte\n",
    "\n",
    "    # decode the raw uart signals\n",
    "    print(\"[Encoded]\", data)\n",
    "    return uart_decoder(data)\n",
    "\n",
    "# Function to continuously read data from the serial port\n",
    "def read_serial(ser):\n",
    "    data = b''\n",
    "    while True:\n",
    "        if ser.in_waiting > 0:  # Check if there is data available to read\n",
    "            data = uart_read_message(ser)\n",
    "            print(\"[Decoded]\", data)\n",
    "\n",
    "# Main function\n",
    "def main():\n",
    "    # Open the serial port\n",
    "    ser = serial.Serial(port, baud_rate)  # Replace with your serial port and baud rate\n",
    "    \n",
    "    # Create and start the thread for reading from the serial port\n",
    "    read_thread = threading.Thread(target=read_serial, args=(ser,), daemon=True)\n",
    "    read_thread.start()\n",
    "\n",
    "if __name__ == \"__main__\":\n",
    "    main()\n"
   ]
  },
  {
   "cell_type": "code",
   "execution_count": 3,
   "id": "5df64817-87b6-493c-a5df-337d982df99b",
   "metadata": {},
   "outputs": [
    {
     "name": "stdout",
     "output_type": "stream",
     "text": [
      "160\n"
     ]
    }
   ],
   "source": [
    "byte = b'\\xa0'\n",
    "print(byte[0])"
   ]
  },
  {
   "cell_type": "code",
   "execution_count": 4,
   "id": "4518b261-9614-4b90-a7f9-81e52b20403a",
   "metadata": {},
   "outputs": [
    {
     "name": "stdout",
     "output_type": "stream",
     "text": [
      "90\n"
     ]
    }
   ],
   "source": [
    "byte = b'Z'\n",
    "print(byte[0])"
   ]
  },
  {
   "cell_type": "code",
   "execution_count": null,
   "id": "4a60c75e-696c-456a-a9b0-4cec37b43fe9",
   "metadata": {},
   "outputs": [],
   "source": []
  }
 ],
 "metadata": {
  "kernelspec": {
   "display_name": "Python 3 (ipykernel)",
   "language": "python",
   "name": "python3"
  },
  "language_info": {
   "codemirror_mode": {
    "name": "ipython",
    "version": 3
   },
   "file_extension": ".py",
   "mimetype": "text/x-python",
   "name": "python",
   "nbconvert_exporter": "python",
   "pygments_lexer": "ipython3",
   "version": "3.11.3"
  }
 },
 "nbformat": 4,
 "nbformat_minor": 5
}
