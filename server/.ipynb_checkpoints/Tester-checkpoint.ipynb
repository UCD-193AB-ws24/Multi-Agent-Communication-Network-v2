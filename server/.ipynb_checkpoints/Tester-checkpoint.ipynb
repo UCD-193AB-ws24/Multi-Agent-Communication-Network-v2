{
 "cells": [
  {
   "cell_type": "code",
   "execution_count": null,
   "id": "0c983f2d-9ab9-49b2-807b-cc6daf651826",
   "metadata": {},
   "outputs": [
    {
     "name": "stdout",
     "output_type": "stream",
     "text": [
      "Log Folder Verified exists: ./history_log\n",
      "connected to serial port COM15\n",
      "[Uart] Successfully attached callback function, <class 'function'>\n",
      "Starting uart thread\n",
      "=== Enter uart listening thread === \n",
      "Started uart thread\n"
     ]
    },
    {
     "name": "stdin",
     "output_type": "stream",
     "text": [
      "Enter command:  00TSTS\n"
     ]
    },
    {
     "name": "stdout",
     "output_type": "stream",
     "text": [
      "\n",
      "[UART-CB]:  b\"[UART] read 7 byte '00TSTS\\n'\\r\\n\"\n",
      "\n",
      "[UART-CB]:  b'Trying to Restart'\n",
      "\n",
      "[UART-CB]:  b'RST-E\\x00\\x00RST-E'\n",
      "\n",
      "[UART-CB]:  b'SEND-\\x00\\x00[D]\\x03GPS\\x06(\\xfa(\\xfa(\\xfaLDC\\x02\\x1a\\xeaIDX\\x01\\x02ESP\\x04\\xfa\\xfb\\xfc\\xfd'\n",
      "\n",
      "[UART-CB]:  b'SEND-\\x00\\x00[D]\\x03GPS\\x06<\\xfa<\\xfa<\\xfaLDC\\x02$\\xeaIDX\\x01\\x03ESP\\x04\\xfa\\xfb\\xfc\\xfd'\n"
     ]
    }
   ],
   "source": [
    "import time\n",
    "import os\n",
    "from uart_manager import Uart_Manager\n",
    "\n",
    "PACKET_SIZE = 1024\n",
    "server_socket_port = 5001\n",
    "# port = '/dev/ttyUSB0' #'COM7'\n",
    "port = 'COM15'\n",
    "baud_rate = 115200\n",
    "\n",
    "# Define the path for the new directory\n",
    "log_folder = './history_log'\n",
    "\n",
    "# Create the directory if it does not exist\n",
    "if not os.path.exists(log_folder):\n",
    "    os.makedirs(log_folder)\n",
    "    print(\"Log Folder created:\", log_folder)\n",
    "else:\n",
    "    print(\"Log Folder Verified exists:\", log_folder)\n",
    "    \n",
    "def callback_uart_test(data):\n",
    "        print(f\"\\n[UART-CB]:  {data}\") # [Testing Log]\n",
    "        node_addr_bytes = data[0:2]\n",
    "        op_code = data[2:5]\n",
    "        payload = data[5:]\n",
    "        \n",
    "        return self.socket_sent(data)\n",
    "    \n",
    "# Main function\n",
    "def main():\n",
    "    # Initialize The serial port & socket\n",
    "    # Do locks sync for the shared vairable (serial_connection, socket)\n",
    "    uart_manager = Uart_Manager(port, baud_rate)\n",
    "    uart_manager.attack_callback(callback_uart_test)\n",
    "    \n",
    "    # Initialize uart_thread\n",
    "    uart_manager.run()\n",
    "\n",
    "    while True:\n",
    "        try:\n",
    "            command = input(\"Enter command: \")\n",
    "            # print(\"inputed:\", \"[\" + command.strip() + \"]\")\n",
    "\n",
    "            input_str = command.strip() + \"\\n\"\n",
    "            uart_manager.sent_data(input_str.encode())  # Send command to the serial port\n",
    "        except Exception as e:\n",
    "            print(\"Error:\", e)\n",
    "    \n",
    "\n",
    "if __name__ == \"__main__\":\n",
    "    main()\n",
    "    print(\"exit---------------\")"
   ]
  },
  {
   "cell_type": "code",
   "execution_count": null,
   "id": "a3d99579-86fc-4745-85e2-e0e4a5a60d73",
   "metadata": {},
   "outputs": [],
   "source": []
  }
 ],
 "metadata": {
  "kernelspec": {
   "display_name": "Python 3 (ipykernel)",
   "language": "python",
   "name": "python3"
  },
  "language_info": {
   "codemirror_mode": {
    "name": "ipython",
    "version": 3
   },
   "file_extension": ".py",
   "mimetype": "text/x-python",
   "name": "python",
   "nbconvert_exporter": "python",
   "pygments_lexer": "ipython3",
   "version": "3.10.13"
  }
 },
 "nbformat": 4,
 "nbformat_minor": 5
}
