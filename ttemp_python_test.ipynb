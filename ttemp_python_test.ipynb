{
 "cells": [
  {
   "cell_type": "code",
   "execution_count": 17,
   "id": "90399924-0ce6-4bae-a3f8-4af31f983686",
   "metadata": {},
   "outputs": [
    {
     "name": "stdout",
     "output_type": "stream",
     "text": [
      "Result: 0xfa\n"
     ]
    }
   ],
   "source": [
    "def bitwise_or_single_bytes(byte1, byte2):\n",
    "    # Perform bitwise OR directly on the two bytes\n",
    "    result_byte = byte1 ^ byte2\n",
    "    return result_byte\n",
    "\n",
    "# Example usage:\n",
    "esp = 0xff  # Individual byte represented as an integer\n",
    "ext = 0x05  # Individual byte represented as an integer\n",
    "\n",
    "result = bitwise_or_single_bytes(esp, ext)\n",
    "print(f\"Result: {result:#04x}\")  # Print the result in hexadecimal format"
   ]
  },
  {
   "cell_type": "code",
   "execution_count": 29,
   "id": "d1ca87e3-b2fb-4726-9d9d-8fb07a5020b0",
   "metadata": {},
   "outputs": [],
   "source": [
    "escape_byte = 0xfa"
   ]
  },
  {
   "cell_type": "code",
   "execution_count": 30,
   "id": "3fd73b57-23c2-4493-9998-6400ca2e35b1",
   "metadata": {},
   "outputs": [
    {
     "data": {
      "text/plain": [
       "250"
      ]
     },
     "execution_count": 30,
     "metadata": {},
     "output_type": "execute_result"
    }
   ],
   "source": [
    "escape_byte"
   ]
  },
  {
   "cell_type": "code",
   "execution_count": null,
   "id": "ae6a4b65-d7c3-4f19-b915-e52bd3cf7792",
   "metadata": {},
   "outputs": [],
   "source": []
  }
 ],
 "metadata": {
  "kernelspec": {
   "display_name": "Python 3 (ipykernel)",
   "language": "python",
   "name": "python3"
  },
  "language_info": {
   "codemirror_mode": {
    "name": "ipython",
    "version": 3
   },
   "file_extension": ".py",
   "mimetype": "text/x-python",
   "name": "python",
   "nbconvert_exporter": "python",
   "pygments_lexer": "ipython3",
   "version": "3.11.3"
  }
 },
 "nbformat": 4,
 "nbformat_minor": 5
}
